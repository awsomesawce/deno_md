{
 "cells": [
  {
   "cell_type": "markdown",
   "id": "86ee64b3-566d-4ff7-bccf-fa21710878a6",
   "metadata": {},
   "source": [
    "# Deno Jupiter test"
   ]
  },
  {
   "cell_type": "code",
   "execution_count": 4,
   "id": "66f835fc-dd2b-47a2-8aa1-1110ab25b595",
   "metadata": {},
   "outputs": [
    {
     "name": "stdout",
     "output_type": "stream",
     "text": [
      "[Module: null prototype] { parse: \u001b[36m[Function: parse]\u001b[39m }\n"
     ]
    }
   ],
   "source": [
    "import * as fs from \"$std/fs/mod.ts\"\n",
    "import * as path from \"$std/path/mod.ts\"\n",
    "import * as yaml from \"https://deno.land/std@0.212.0/yaml/mod.ts\"\n",
    "import { jsonc } from \"./deps.ts\"\n",
    "\n",
    "const l = console.log\n",
    "l(jsonc)\n"
   ]
  },
  {
   "cell_type": "code",
   "execution_count": null,
   "id": "aa558210-c71e-43fa-a211-47d78b5dcd1e",
   "metadata": {},
   "outputs": [],
   "source": []
  }
 ],
 "metadata": {
  "kernelspec": {
   "display_name": "Deno",
   "language": "typescript",
   "name": "deno"
  },
  "language_info": {
   "file_extension": ".ts",
   "mimetype": "text/x.typescript",
   "name": "typescript",
   "nb_converter": "script",
   "pygments_lexer": "typescript",
   "version": "5.3.3"
  }
 },
 "nbformat": 4,
 "nbformat_minor": 5
}
